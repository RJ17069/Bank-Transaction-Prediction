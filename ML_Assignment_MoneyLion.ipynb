{
 "cells": [
  {
   "cell_type": "markdown",
   "id": "3b8dfd3a-0e54-4e59-af55-4d29436a6d27",
   "metadata": {},
   "source": [
    "# Assignment (Machine learning Assignment From MoneyLion)  Name: Ritvik Johnson Email: ritvikjohnson5@gmail.com\n",
    "\n",
    "### In this challenge, we invite you to develop a bank transaction categorization model (i.e. enrich their bank transactions into categories) to solve this business use case. You should discuss how you plan to develop this model, showcase the model implementation process, produce a proof of concept model as well as discuss the viability of the proposed solution for the business use case (i.e can we use the results of the model to provide financial insights to our users?). This proposal will be used to make a decision on whether we should replace our existing system with this model.\n",
    "\n",
    "#### You are provided with the following files to get you started on this challenge:\n",
    "\n",
    "#### 1. bank_transaction.csv\n",
    "####     ● This dataset contains users bank transactions data and example categories (e.g. Loans, Restaurants, Supermarkets and Groceries, Insurance)\n",
    "\n",
    "#### 2. user_profile.csv\n",
    "####     ● This dataset contains a selected set of users and their financial profiles\n",
    "\n",
    "#### 3. data_dictionary.pdf\n",
    "####     ● Detailed descriptions and definitions of each column within the datasets provided is available in this file.\n",
    "\n",
    "#### We are looking for the following items for this challenge:\n",
    "\n",
    "#### 1. Ideas and plan to implement the bank transaction categorization model\n",
    "####     ● Ensure to provide supporting data analyses leading to the developed model and justifications for the chosen model.\n",
    "####     ● Discuss what are possible short, medium and long term plans on how to develop the model.\n",
    "#### 2. Develop the model given the time restrictions.\n",
    "####     ● Ensure to provide functional code to create this model.\n",
    "####     ● Code out the development process and explain the code in detail.\n",
    "#### 3. Final proposal and viability of using the model\n",
    "####     ● Provide justifications of using this model\n",
    "####     ● Include considerations and constraints of using this model"
   ]
  },
  {
   "cell_type": "code",
   "execution_count": null,
   "id": "35055c3e-36b3-48f8-8a2e-7a8968848732",
   "metadata": {},
   "outputs": [],
   "source": [
    "#!pip install panda\n",
    "#!pip install numpy\n",
    "#!pip install spacy\n",
    "#!pip install nltk\n",
    "#!pip install scikit-learn\n",
    "#!pip install xgboost\n",
    "#!pip install swifter\n",
    "#!pip install tqdm\n",
    "#!pip install matplotlib\n",
    "#!pip install seaborn"
   ]
  },
  {
   "cell_type": "code",
   "execution_count": 1,
   "id": "8f72cdaa-48c9-4cea-9555-bf3210028ea4",
   "metadata": {
    "tags": []
   },
   "outputs": [],
   "source": [
    "try:\n",
    "    import json\n",
    "    import os\n",
    "    \n",
    "    import pandas as  pd\n",
    "    import numpy as np\n",
    "    import spacy\n",
    "    \n",
    "    import seaborn as sns\n",
    "    import string\n",
    "\n",
    "    from tqdm import tqdm\n",
    "    from textblob import TextBlob\n",
    "    \n",
    "    from nltk.corpus import stopwords\n",
    "    import nltk\n",
    "    from nltk.stem import WordNetLemmatizer\n",
    "    from nltk import word_tokenize\n",
    "    import re\n",
    "    \n",
    "    \n",
    "    from sklearn.model_selection import train_test_split\n",
    "    from sklearn.preprocessing import LabelEncoder\n",
    "    from sklearn.feature_extraction.text import CountVectorizer\n",
    "    from sklearn.feature_extraction.text import TfidfTransformer\n",
    "    from sklearn.pipeline import Pipeline\n",
    "\n",
    "    \n",
    "    import swifter\n",
    "    \n",
    "    tqdm.pandas()\n",
    "except Exception as e:\n",
    "    print(\"Error : {} \".format(e))"
   ]
  },
  {
   "cell_type": "code",
   "execution_count": 2,
   "id": "c7568972-5add-4e82-8684-c321d5688312",
   "metadata": {
    "tags": []
   },
   "outputs": [
    {
     "name": "stderr",
     "output_type": "stream",
     "text": [
      "[nltk_data] Downloading package punkt to\n",
      "[nltk_data]     C:\\Users\\Hp\\AppData\\Roaming\\nltk_data...\n",
      "[nltk_data]   Package punkt is already up-to-date!\n",
      "[nltk_data] Downloading package stopwords to\n",
      "[nltk_data]     C:\\Users\\Hp\\AppData\\Roaming\\nltk_data...\n",
      "[nltk_data]   Package stopwords is already up-to-date!\n",
      "[nltk_data] Downloading package wordnet to\n",
      "[nltk_data]     C:\\Users\\Hp\\AppData\\Roaming\\nltk_data...\n",
      "[nltk_data]   Package wordnet is already up-to-date!\n",
      "[nltk_data] Downloading package averaged_perceptron_tagger to\n",
      "[nltk_data]     C:\\Users\\Hp\\AppData\\Roaming\\nltk_data...\n",
      "[nltk_data]   Package averaged_perceptron_tagger is already up-to-\n",
      "[nltk_data]       date!\n"
     ]
    },
    {
     "data": {
      "text/plain": [
       "True"
      ]
     },
     "execution_count": 2,
     "metadata": {},
     "output_type": "execute_result"
    }
   ],
   "source": [
    "import nltk\n",
    "nltk.download('punkt')\n",
    "nltk.download('stopwords')\n",
    "nltk.download('wordnet')\n",
    "nltk.download('averaged_perceptron_tagger')"
   ]
  },
  {
   "cell_type": "code",
   "execution_count": 3,
   "id": "31d07f8c-7a93-4b70-836a-158fe100602e",
   "metadata": {},
   "outputs": [],
   "source": [
    "df1 = pd.read_csv(\"data/bank_transaction.csv\")\n",
    "df2 = pd.read_csv(\"data/user_profile.csv\")"
   ]
  },
  {
   "cell_type": "code",
   "execution_count": 4,
   "id": "d591740a-1878-40fa-b71e-4f169a72c343",
   "metadata": {},
   "outputs": [
    {
     "data": {
      "text/html": [
       "<div>\n",
       "<style scoped>\n",
       "    .dataframe tbody tr th:only-of-type {\n",
       "        vertical-align: middle;\n",
       "    }\n",
       "\n",
       "    .dataframe tbody tr th {\n",
       "        vertical-align: top;\n",
       "    }\n",
       "\n",
       "    .dataframe thead th {\n",
       "        text-align: right;\n",
       "    }\n",
       "</style>\n",
       "<table border=\"1\" class=\"dataframe\">\n",
       "  <thead>\n",
       "    <tr style=\"text-align: right;\">\n",
       "      <th></th>\n",
       "      <th>client_id</th>\n",
       "      <th>bank_id</th>\n",
       "      <th>account_id</th>\n",
       "      <th>txn_id</th>\n",
       "      <th>txn_date</th>\n",
       "      <th>description</th>\n",
       "      <th>amount</th>\n",
       "      <th>category</th>\n",
       "      <th>CLIENT_ID</th>\n",
       "      <th>IS_INTERESTED_INVESTMENT</th>\n",
       "      <th>IS_INTERESTED_BUILD_CREDIT</th>\n",
       "      <th>IS_INTERESTED_INCREASE_INCOME</th>\n",
       "      <th>IS_INTERESTED_PAY_OFF_DEBT</th>\n",
       "      <th>IS_INTERESTED_MANAGE_SPENDING</th>\n",
       "      <th>IS_INTERESTED_GROW_SAVINGS</th>\n",
       "    </tr>\n",
       "  </thead>\n",
       "  <tbody>\n",
       "    <tr>\n",
       "      <th>0</th>\n",
       "      <td>1</td>\n",
       "      <td>1</td>\n",
       "      <td>1</td>\n",
       "      <td>4</td>\n",
       "      <td>2023-09-29 00:00:00</td>\n",
       "      <td>Earnin           PAYMENT                 Donat...</td>\n",
       "      <td>20.0</td>\n",
       "      <td>Loans</td>\n",
       "      <td>1</td>\n",
       "      <td>False</td>\n",
       "      <td>False</td>\n",
       "      <td>False</td>\n",
       "      <td>False</td>\n",
       "      <td>False</td>\n",
       "      <td>False</td>\n",
       "    </tr>\n",
       "    <tr>\n",
       "      <th>1</th>\n",
       "      <td>1</td>\n",
       "      <td>1</td>\n",
       "      <td>1</td>\n",
       "      <td>3</td>\n",
       "      <td>2023-08-14 00:00:00</td>\n",
       "      <td>ONLINE TRANSFER FROM NDonatas DanyalDA O CARSO...</td>\n",
       "      <td>25.0</td>\n",
       "      <td>Transfer Credit</td>\n",
       "      <td>1</td>\n",
       "      <td>False</td>\n",
       "      <td>False</td>\n",
       "      <td>False</td>\n",
       "      <td>False</td>\n",
       "      <td>False</td>\n",
       "      <td>False</td>\n",
       "    </tr>\n",
       "    <tr>\n",
       "      <th>2</th>\n",
       "      <td>1</td>\n",
       "      <td>1</td>\n",
       "      <td>1</td>\n",
       "      <td>5</td>\n",
       "      <td>2023-09-25 00:00:00</td>\n",
       "      <td>MONEY TRANSFER                          AUTHOR...</td>\n",
       "      <td>20.0</td>\n",
       "      <td>Loans</td>\n",
       "      <td>1</td>\n",
       "      <td>False</td>\n",
       "      <td>False</td>\n",
       "      <td>False</td>\n",
       "      <td>False</td>\n",
       "      <td>False</td>\n",
       "      <td>False</td>\n",
       "    </tr>\n",
       "    <tr>\n",
       "      <th>3</th>\n",
       "      <td>1</td>\n",
       "      <td>1</td>\n",
       "      <td>2</td>\n",
       "      <td>1</td>\n",
       "      <td>2023-06-02 00:00:00</td>\n",
       "      <td>ONLINE TRANSFER FROM CARSON N EVERYDAY CHECKIN...</td>\n",
       "      <td>16.0</td>\n",
       "      <td>Transfer Credit</td>\n",
       "      <td>1</td>\n",
       "      <td>False</td>\n",
       "      <td>False</td>\n",
       "      <td>False</td>\n",
       "      <td>False</td>\n",
       "      <td>False</td>\n",
       "      <td>False</td>\n",
       "    </tr>\n",
       "    <tr>\n",
       "      <th>4</th>\n",
       "      <td>1</td>\n",
       "      <td>1</td>\n",
       "      <td>2</td>\n",
       "      <td>2</td>\n",
       "      <td>2023-06-01 00:00:00</td>\n",
       "      <td>ONLINE TRANSFER FROM CARSON N EVERYDAY CHECKIN...</td>\n",
       "      <td>4.0</td>\n",
       "      <td>Transfer Credit</td>\n",
       "      <td>1</td>\n",
       "      <td>False</td>\n",
       "      <td>False</td>\n",
       "      <td>False</td>\n",
       "      <td>False</td>\n",
       "      <td>False</td>\n",
       "      <td>False</td>\n",
       "    </tr>\n",
       "  </tbody>\n",
       "</table>\n",
       "</div>"
      ],
      "text/plain": [
       "   client_id  bank_id  account_id  txn_id             txn_date  \\\n",
       "0          1        1           1       4  2023-09-29 00:00:00   \n",
       "1          1        1           1       3  2023-08-14 00:00:00   \n",
       "2          1        1           1       5  2023-09-25 00:00:00   \n",
       "3          1        1           2       1  2023-06-02 00:00:00   \n",
       "4          1        1           2       2  2023-06-01 00:00:00   \n",
       "\n",
       "                                         description  amount         category  \\\n",
       "0  Earnin           PAYMENT                 Donat...    20.0            Loans   \n",
       "1  ONLINE TRANSFER FROM NDonatas DanyalDA O CARSO...    25.0  Transfer Credit   \n",
       "2  MONEY TRANSFER                          AUTHOR...    20.0            Loans   \n",
       "3  ONLINE TRANSFER FROM CARSON N EVERYDAY CHECKIN...    16.0  Transfer Credit   \n",
       "4  ONLINE TRANSFER FROM CARSON N EVERYDAY CHECKIN...     4.0  Transfer Credit   \n",
       "\n",
       "   CLIENT_ID  IS_INTERESTED_INVESTMENT  IS_INTERESTED_BUILD_CREDIT  \\\n",
       "0          1                     False                       False   \n",
       "1          1                     False                       False   \n",
       "2          1                     False                       False   \n",
       "3          1                     False                       False   \n",
       "4          1                     False                       False   \n",
       "\n",
       "   IS_INTERESTED_INCREASE_INCOME  IS_INTERESTED_PAY_OFF_DEBT  \\\n",
       "0                          False                       False   \n",
       "1                          False                       False   \n",
       "2                          False                       False   \n",
       "3                          False                       False   \n",
       "4                          False                       False   \n",
       "\n",
       "   IS_INTERESTED_MANAGE_SPENDING  IS_INTERESTED_GROW_SAVINGS  \n",
       "0                          False                       False  \n",
       "1                          False                       False  \n",
       "2                          False                       False  \n",
       "3                          False                       False  \n",
       "4                          False                       False  "
      ]
     },
     "execution_count": 4,
     "metadata": {},
     "output_type": "execute_result"
    }
   ],
   "source": [
    "df = pd.merge(df1, df2, left_on = ['client_id'], right_on = ['CLIENT_ID'], how = 'inner')\n",
    "df.head()"
   ]
  },
  {
   "cell_type": "markdown",
   "id": "3d2e8fa1-15fc-475b-b6c3-08e8930f4d92",
   "metadata": {
    "tags": []
   },
   "source": [
    "# Convert Uncategorized to nan"
   ]
  },
  {
   "cell_type": "code",
   "execution_count": 5,
   "id": "88f502c5-d359-406f-bdf6-11aef821d4d4",
   "metadata": {},
   "outputs": [],
   "source": [
    "#df.dropna(subset=[\"category\"], inplace=True)\n",
    "df['category'] = df['category'].replace('Uncategorized', pd.NA)"
   ]
  },
  {
   "cell_type": "code",
   "execution_count": 6,
   "id": "c68fdb4a-13fe-4370-bb22-e7c548bcc577",
   "metadata": {
    "tags": []
   },
   "outputs": [
    {
     "data": {
      "text/plain": [
       "<bound method DataFrame.info of         client_id  bank_id  account_id  txn_id             txn_date  \\\n",
       "0               1        1           1       4  2023-09-29 00:00:00   \n",
       "1               1        1           1       3  2023-08-14 00:00:00   \n",
       "2               1        1           1       5  2023-09-25 00:00:00   \n",
       "3               1        1           2       1  2023-06-02 00:00:00   \n",
       "4               1        1           2       2  2023-06-01 00:00:00   \n",
       "...           ...      ...         ...     ...                  ...   \n",
       "258774        880      488         557   19800  2023-08-14 00:00:00   \n",
       "258775        880      488         557     718  2023-07-03 00:00:00   \n",
       "258776        880      488         557   56777  2023-08-21 00:00:00   \n",
       "258777        880      488         557  150548  2023-07-10 00:00:00   \n",
       "258778        880      488         557  125702  2023-09-18 00:00:00   \n",
       "\n",
       "                                              description  amount  \\\n",
       "0       Earnin           PAYMENT                 Donat...  20.000   \n",
       "1       ONLINE TRANSFER FROM NDonatas DanyalDA O CARSO...  25.000   \n",
       "2       MONEY TRANSFER                          AUTHOR...  20.000   \n",
       "3       ONLINE TRANSFER FROM CARSON N EVERYDAY CHECKIN...  16.000   \n",
       "4       ONLINE TRANSFER FROM CARSON N EVERYDAY CHECKIN...   4.000   \n",
       "...                                                   ...     ...   \n",
       "258774                                           CHECK111  -2.664   \n",
       "258775                                           CHECK111  -8.842   \n",
       "258776  7-ELEVEN 08/21 #3168 PURCHASE 7-ELEVEN BALTIMO...  -1.060   \n",
       "258777  7-ELEVEN 07/10 3168 PURCHASE 7-ELEVEN BALTIMOR...  -0.538   \n",
       "258778  SHOPPERS FOOD/ 09/17 #3168 PURCHASE SHOPPERS F...  -3.996   \n",
       "\n",
       "                          category  CLIENT_ID  IS_INTERESTED_INVESTMENT  \\\n",
       "0                            Loans          1                     False   \n",
       "1                  Transfer Credit          1                     False   \n",
       "2                            Loans          1                     False   \n",
       "3                  Transfer Credit          1                     False   \n",
       "4                  Transfer Credit          1                     False   \n",
       "...                            ...        ...                       ...   \n",
       "258774                 Restaurants        880                     False   \n",
       "258775  Supermarkets and Groceries        880                     False   \n",
       "258776          Convenience Stores        880                     False   \n",
       "258777          Convenience Stores        880                     False   \n",
       "258778  Supermarkets and Groceries        880                     False   \n",
       "\n",
       "        IS_INTERESTED_BUILD_CREDIT  IS_INTERESTED_INCREASE_INCOME  \\\n",
       "0                            False                          False   \n",
       "1                            False                          False   \n",
       "2                            False                          False   \n",
       "3                            False                          False   \n",
       "4                            False                          False   \n",
       "...                            ...                            ...   \n",
       "258774                       False                          False   \n",
       "258775                       False                          False   \n",
       "258776                       False                          False   \n",
       "258777                       False                          False   \n",
       "258778                       False                          False   \n",
       "\n",
       "        IS_INTERESTED_PAY_OFF_DEBT  IS_INTERESTED_MANAGE_SPENDING  \\\n",
       "0                            False                          False   \n",
       "1                            False                          False   \n",
       "2                            False                          False   \n",
       "3                            False                          False   \n",
       "4                            False                          False   \n",
       "...                            ...                            ...   \n",
       "258774                       False                          False   \n",
       "258775                       False                          False   \n",
       "258776                       False                          False   \n",
       "258777                       False                          False   \n",
       "258778                       False                          False   \n",
       "\n",
       "        IS_INTERESTED_GROW_SAVINGS  \n",
       "0                            False  \n",
       "1                            False  \n",
       "2                            False  \n",
       "3                            False  \n",
       "4                            False  \n",
       "...                            ...  \n",
       "258774                       False  \n",
       "258775                       False  \n",
       "258776                       False  \n",
       "258777                       False  \n",
       "258778                       False  \n",
       "\n",
       "[258779 rows x 15 columns]>"
      ]
     },
     "execution_count": 6,
     "metadata": {},
     "output_type": "execute_result"
    }
   ],
   "source": [
    "df.info"
   ]
  },
  {
   "cell_type": "code",
   "execution_count": 7,
   "id": "b70c073a-f1ff-4eab-a1e2-0b0581ed7694",
   "metadata": {
    "tags": []
   },
   "outputs": [
    {
     "data": {
      "text/plain": [
       "client_id                            0\n",
       "bank_id                              0\n",
       "account_id                           0\n",
       "txn_id                               0\n",
       "txn_date                             0\n",
       "description                          0\n",
       "amount                               0\n",
       "category                         29649\n",
       "CLIENT_ID                            0\n",
       "IS_INTERESTED_INVESTMENT             0\n",
       "IS_INTERESTED_BUILD_CREDIT           0\n",
       "IS_INTERESTED_INCREASE_INCOME        0\n",
       "IS_INTERESTED_PAY_OFF_DEBT           0\n",
       "IS_INTERESTED_MANAGE_SPENDING        0\n",
       "IS_INTERESTED_GROW_SAVINGS           0\n",
       "dtype: int64"
      ]
     },
     "execution_count": 7,
     "metadata": {},
     "output_type": "execute_result"
    }
   ],
   "source": [
    "df.isnull().sum()"
   ]
  },
  {
   "cell_type": "code",
   "execution_count": 8,
   "id": "a525a26a-6674-4125-bb85-edc5c6e9f2e3",
   "metadata": {
    "tags": []
   },
   "outputs": [
    {
     "data": {
      "text/plain": [
       "category\n",
       "Third Party                   28714\n",
       "Restaurants                   26367\n",
       "Transfer Credit               21561\n",
       "Loans                         19605\n",
       "Convenience Stores            18630\n",
       "Supermarkets and Groceries    16750\n",
       "Transfer Debit                15114\n",
       "Gas Stations                  12919\n",
       "Internal Account Transfer     11983\n",
       "Payroll                        8100\n",
       "Shops                          7418\n",
       "Bank Fees                      6432\n",
       "Transfer                       6275\n",
       "ATM                            5672\n",
       "Transfer Deposit               4976\n",
       "Digital Entertainment          4525\n",
       "Utilities                      4118\n",
       "Clothing and Accessories       3190\n",
       "Department Stores              2002\n",
       "Insurance                      1754\n",
       "Service                         910\n",
       "Arts and Entertainment          397\n",
       "Travel                          367\n",
       "Food and Beverage Services      343\n",
       "Interest                        280\n",
       "Check Deposit                   211\n",
       "Healthcare                      207\n",
       "Telecommunication Services      159\n",
       "Gyms and Fitness Centers         69\n",
       "Payment                          41\n",
       "Bank Fee                         36\n",
       "Tax Refund                        5\n",
       "Name: count, dtype: int64"
      ]
     },
     "execution_count": 8,
     "metadata": {},
     "output_type": "execute_result"
    }
   ],
   "source": [
    "df['category'].value_counts()"
   ]
  },
  {
   "cell_type": "code",
   "execution_count": null,
   "id": "c20fec58-a142-4d0a-bced-b6afbbf40158",
   "metadata": {},
   "outputs": [],
   "source": []
  },
  {
   "cell_type": "code",
   "execution_count": null,
   "id": "7c0bb9fa-2598-4546-8157-68cbc2fa6962",
   "metadata": {},
   "outputs": [],
   "source": []
  },
  {
   "cell_type": "code",
   "execution_count": 9,
   "id": "44dfcff6-83c7-4a45-8ecd-1a4840ff11ab",
   "metadata": {
    "tags": []
   },
   "outputs": [
    {
     "data": {
      "text/plain": [
       "array(['Loans', 'Transfer Credit', 'Transfer Deposit', 'Payroll', <NA>,\n",
       "       'Restaurants', 'Check Deposit', 'Third Party',\n",
       "       'Food and Beverage Services', 'Internal Account Transfer', 'Shops',\n",
       "       'Supermarkets and Groceries', 'Telecommunication Services',\n",
       "       'Bank Fees', 'Utilities', 'Insurance', 'Clothing and Accessories',\n",
       "       'Digital Entertainment', 'Transfer', 'Gyms and Fitness Centers',\n",
       "       'Department Stores', 'Healthcare', 'Gas Stations', 'Service',\n",
       "       'Travel', 'Arts and Entertainment', 'Convenience Stores',\n",
       "       'Interest', 'Tax Refund', nan, 'Transfer Debit', 'ATM', 'Bank Fee',\n",
       "       'Payment'], dtype=object)"
      ]
     },
     "execution_count": 9,
     "metadata": {},
     "output_type": "execute_result"
    }
   ],
   "source": [
    "df['category'].unique()"
   ]
  },
  {
   "cell_type": "code",
   "execution_count": 10,
   "id": "a753ba39-a512-4b15-8028-e02f7c4e4f57",
   "metadata": {},
   "outputs": [
    {
     "data": {
      "text/plain": [
       "<Axes: xlabel='category'>"
      ]
     },
     "execution_count": 10,
     "metadata": {},
     "output_type": "execute_result"
    },
    {
     "data": {
      "image/png": "[encoded data removed]",
      "text/plain": [
       "<Figure size 1500x1000 with 1 Axes>"
      ]
     },
     "metadata": {},
     "output_type": "display_data"
    }
   ],
   "source": [
    "df['category'].value_counts().plot(kind = 'bar', figsize = (15, 10))"
   ]
  },
  {
   "cell_type": "markdown",
   "id": "3906f895-0dd3-4847-a57f-c32ebcbbb740",
   "metadata": {},
   "source": [
    "# Check For Duplicate Record"
   ]
  },
  {
   "cell_type": "code",
   "execution_count": 11,
   "id": "912d740b-fff1-4887-b2b4-c69a5698051e",
   "metadata": {},
   "outputs": [
    {
     "name": "stdout",
     "output_type": "stream",
     "text": [
      "(0, 15)\n"
     ]
    },
    {
     "data": {
      "text/html": [
       "<div>\n",
       "<style scoped>\n",
       "    .dataframe tbody tr th:only-of-type {\n",
       "        vertical-align: middle;\n",
       "    }\n",
       "\n",
       "    .dataframe tbody tr th {\n",
       "        vertical-align: top;\n",
       "    }\n",
       "\n",
       "    .dataframe thead th {\n",
       "        text-align: right;\n",
       "    }\n",
       "</style>\n",
       "<table border=\"1\" class=\"dataframe\">\n",
       "  <thead>\n",
       "    <tr style=\"text-align: right;\">\n",
       "      <th></th>\n",
       "      <th>client_id</th>\n",
       "      <th>bank_id</th>\n",
       "      <th>account_id</th>\n",
       "      <th>txn_id</th>\n",
       "      <th>txn_date</th>\n",
       "      <th>description</th>\n",
       "      <th>amount</th>\n",
       "      <th>category</th>\n",
       "      <th>CLIENT_ID</th>\n",
       "      <th>IS_INTERESTED_INVESTMENT</th>\n",
       "      <th>IS_INTERESTED_BUILD_CREDIT</th>\n",
       "      <th>IS_INTERESTED_INCREASE_INCOME</th>\n",
       "      <th>IS_INTERESTED_PAY_OFF_DEBT</th>\n",
       "      <th>IS_INTERESTED_MANAGE_SPENDING</th>\n",
       "      <th>IS_INTERESTED_GROW_SAVINGS</th>\n",
       "    </tr>\n",
       "  </thead>\n",
       "  <tbody>\n",
       "  </tbody>\n",
       "</table>\n",
       "</div>"
      ],
      "text/plain": [
       "Empty DataFrame\n",
       "Columns: [client_id, bank_id, account_id, txn_id, txn_date, description, amount, category, CLIENT_ID, IS_INTERESTED_INVESTMENT, IS_INTERESTED_BUILD_CREDIT, IS_INTERESTED_INCREASE_INCOME, IS_INTERESTED_PAY_OFF_DEBT, IS_INTERESTED_MANAGE_SPENDING, IS_INTERESTED_GROW_SAVINGS]\n",
       "Index: []"
      ]
     },
     "execution_count": 11,
     "metadata": {},
     "output_type": "execute_result"
    }
   ],
   "source": [
    "duplicate_rec = df[df.duplicated(keep=False)]\n",
    "\n",
    "d_r_sorted = duplicate_rec.sort_values(by=['category', 'description'])\n",
    "print(d_r_sorted.shape)\n",
    "d_r_sorted.head(15)"
   ]
  },
  {
   "cell_type": "markdown",
   "id": "6d86e5e6-fcdc-4b14-8a8c-ec891e8f85bd",
   "metadata": {},
   "source": [
    "# Natural Language Processing"
   ]
  },
  {
   "cell_type": "code",
   "execution_count": 12,
   "id": "92731afa-48d4-419f-9bee-706405c5fbc0",
   "metadata": {
    "tags": []
   },
   "outputs": [],
   "source": [
    "stop_words_ = set(stopwords.words('english'))\n",
    "wn = WordNetLemmatizer()\n",
    "\n",
    "\n",
    "def black_txt(token):\n",
    "    return  token not in stop_words_ and token not in list(string.punctuation)  and len(token)>2\n",
    "  \n",
    "def clean_txt(text):\n",
    "    clean_text = []\n",
    "    clean_text2 = []\n",
    "    text = re.sub(\"'\", \"\",text)\n",
    "    text=re.sub(\"(\\\\d|\\\\W)+\",\" \",text)    \n",
    "    clean_text = [ wn.lemmatize(word, pos=\"v\") for word in word_tokenize(text.lower()) if black_txt(word)]\n",
    "    clean_text2 = [word for word in clean_text if black_txt(word)]\n",
    "    return \" \".join(clean_text2)"
   ]
  },
  {
   "cell_type": "code",
   "execution_count": 13,
   "id": "b7fb11da-8f9a-4906-9cc3-739504b81230",
   "metadata": {
    "tags": []
   },
   "outputs": [
    {
     "data": {
      "application/vnd.jupyter.widget-view+json": {
       "model_id": "930f21b575a545e790f5ba5a8f085904",
       "version_major": 2,
       "version_minor": 0
      },
      "text/plain": [
       "Pandas Apply:   0%|          | 0/258779 [00:00<?, ?it/s]"
      ]
     },
     "metadata": {},
     "output_type": "display_data"
    }
   ],
   "source": [
    "df['description'] = df['description'].swifter.apply(clean_txt)"
   ]
  },
  {
   "cell_type": "markdown",
   "id": "b46441a6-9e5e-4be7-94fe-eaa9bb9e1a78",
   "metadata": {},
   "source": [
    "# Balance the Categorical data"
   ]
  },
  {
   "cell_type": "code",
   "execution_count": 14,
   "id": "991eee5a-63ef-4627-867d-ae19c587709e",
   "metadata": {
    "tags": []
   },
   "outputs": [],
   "source": [
    "from imblearn.over_sampling import RandomOverSampler\n",
    "\n",
    "# Separate the dataset in label and unlabel dataset with respect to category data\n",
    "labeled_data = df.dropna(subset=['category'])\n",
    "unlabeled_data = df[df['category'].isnull()]\n",
    "\n",
    "oversampler = RandomOverSampler(random_state=42)\n",
    "X_resampled, y_resampled = oversampler.fit_resample(labeled_data[['description']], labeled_data['category'])"
   ]
  },
  {
   "cell_type": "code",
   "execution_count": 15,
   "id": "839a78b5-cc09-44a9-83f4-479e930ea7a5",
   "metadata": {
    "tags": []
   },
   "outputs": [
    {
     "data": {
      "text/html": [
       "<div>\n",
       "<style scoped>\n",
       "    .dataframe tbody tr th:only-of-type {\n",
       "        vertical-align: middle;\n",
       "    }\n",
       "\n",
       "    .dataframe tbody tr th {\n",
       "        vertical-align: top;\n",
       "    }\n",
       "\n",
       "    .dataframe thead th {\n",
       "        text-align: right;\n",
       "    }\n",
       "</style>\n",
       "<table border=\"1\" class=\"dataframe\">\n",
       "  <thead>\n",
       "    <tr style=\"text-align: right;\">\n",
       "      <th></th>\n",
       "      <th>description</th>\n",
       "    </tr>\n",
       "  </thead>\n",
       "  <tbody>\n",
       "    <tr>\n",
       "      <th>0</th>\n",
       "      <td>earnin payment donatas danyal</td>\n",
       "    </tr>\n",
       "    <tr>\n",
       "      <th>1</th>\n",
       "      <td>online transfer ndonatas danyalda carson busin...</td>\n",
       "    </tr>\n",
       "    <tr>\n",
       "      <th>2</th>\n",
       "      <td>money transfer authorize earnin cdaej_b</td>\n",
       "    </tr>\n",
       "    <tr>\n",
       "      <th>3</th>\n",
       "      <td>online transfer carson everyday check</td>\n",
       "    </tr>\n",
       "    <tr>\n",
       "      <th>4</th>\n",
       "      <td>online transfer carson everyday check</td>\n",
       "    </tr>\n",
       "    <tr>\n",
       "      <th>...</th>\n",
       "      <td>...</td>\n",
       "    </tr>\n",
       "    <tr>\n",
       "      <th>918843</th>\n",
       "      <td>round check</td>\n",
       "    </tr>\n",
       "    <tr>\n",
       "      <th>918844</th>\n",
       "      <td>round</td>\n",
       "    </tr>\n",
       "    <tr>\n",
       "      <th>918845</th>\n",
       "      <td>round check</td>\n",
       "    </tr>\n",
       "    <tr>\n",
       "      <th>918846</th>\n",
       "      <td>reliant energy</td>\n",
       "    </tr>\n",
       "    <tr>\n",
       "      <th>918847</th>\n",
       "      <td>dividend</td>\n",
       "    </tr>\n",
       "  </tbody>\n",
       "</table>\n",
       "<p>918848 rows × 1 columns</p>\n",
       "</div>"
      ],
      "text/plain": [
       "                                              description\n",
       "0                           earnin payment donatas danyal\n",
       "1       online transfer ndonatas danyalda carson busin...\n",
       "2                 money transfer authorize earnin cdaej_b\n",
       "3                   online transfer carson everyday check\n",
       "4                   online transfer carson everyday check\n",
       "...                                                   ...\n",
       "918843                                        round check\n",
       "918844                                              round\n",
       "918845                                        round check\n",
       "918846                                     reliant energy\n",
       "918847                                           dividend\n",
       "\n",
       "[918848 rows x 1 columns]"
      ]
     },
     "execution_count": 15,
     "metadata": {},
     "output_type": "execute_result"
    }
   ],
   "source": [
    "X_resampled"
   ]
  },
  {
   "cell_type": "code",
   "execution_count": 16,
   "id": "a60fb438-035c-48c6-9e40-98f56cf230e3",
   "metadata": {
    "tags": []
   },
   "outputs": [
    {
     "data": {
      "text/plain": [
       "0                   Loans\n",
       "1         Transfer Credit\n",
       "2                   Loans\n",
       "3         Transfer Credit\n",
       "4         Transfer Credit\n",
       "               ...       \n",
       "918843          Utilities\n",
       "918844          Utilities\n",
       "918845          Utilities\n",
       "918846          Utilities\n",
       "918847          Utilities\n",
       "Name: category, Length: 918848, dtype: object"
      ]
     },
     "execution_count": 16,
     "metadata": {},
     "output_type": "execute_result"
    }
   ],
   "source": [
    "y_resampled"
   ]
  },
  {
   "cell_type": "markdown",
   "id": "329dc27b-b98f-4fb5-80b3-0a7ea45dce69",
   "metadata": {
    "tags": []
   },
   "source": [
    "# Train Test Split"
   ]
  },
  {
   "cell_type": "code",
   "execution_count": 17,
   "id": "d907b561-31e3-4063-8d1a-c1b520dcdf0f",
   "metadata": {
    "tags": []
   },
   "outputs": [
    {
     "name": "stdout",
     "output_type": "stream",
     "text": [
      "{16: 'Loans', 27: 'Transfer Credit', 29: 'Transfer Deposit', 18: 'Payroll', 19: 'Restaurants', 4: 'Check Deposit', 25: 'Third Party', 9: 'Food and Beverage Services', 15: 'Internal Account Transfer', 21: 'Shops', 22: 'Supermarkets and Groceries', 24: 'Telecommunication Services', 3: 'Bank Fees', 31: 'Utilities', 13: 'Insurance', 5: 'Clothing and Accessories', 8: 'Digital Entertainment', 26: 'Transfer', 11: 'Gyms and Fitness Centers', 7: 'Department Stores', 12: 'Healthcare', 10: 'Gas Stations', 20: 'Service', 30: 'Travel', 1: 'Arts and Entertainment', 6: 'Convenience Stores', 14: 'Interest', 23: 'Tax Refund', 28: 'Transfer Debit', 0: 'ATM', 2: 'Bank Fee', 17: 'Payment'}\n"
     ]
    }
   ],
   "source": [
    "X = X_resampled\n",
    "y = y_resampled\n",
    "\n",
    "# lable the category feature data\n",
    "encoder = LabelEncoder()\n",
    "y = encoder.fit_transform(y)\n",
    "\n",
    "x_train, x_test, y_train, y_test = train_test_split(X, y, test_size=0.2, stratify=y, random_state=42)\n",
    "v = dict(zip(list(y), labeled_data['category'].to_list()))\n",
    "print(v)"
   ]
  },
  {
   "cell_type": "markdown",
   "id": "b7027ec9-65cf-4291-92fe-2eb700083848",
   "metadata": {},
   "source": [
    "# Create Model Pipeline"
   ]
  },
  {
   "cell_type": "markdown",
   "id": "6840f777-ee22-497e-b345-b3503d4fc10b",
   "metadata": {},
   "source": [
    "### NB"
   ]
  },
  {
   "cell_type": "markdown",
   "id": "ab4d09ac-215e-47ef-b0f8-fa9595569657",
   "metadata": {
    "tags": []
   },
   "source": [
    "Model_NB = Pipeline([\n",
    "     ('vect', CountVectorizer(analyzer=\"word\", stop_words=\"english\")),\n",
    "     ('tfidf', TfidfTransformer(use_idf=True)),\n",
    "     ('clf', MultinomialNB(alpha=.01)),\n",
    " ])"
   ]
  },
  {
   "cell_type": "markdown",
   "id": "5aace821-b04d-45e6-b2ed-986f5e2f6479",
   "metadata": {},
   "source": [
    "### XGB"
   ]
  },
  {
   "cell_type": "markdown",
   "id": "21b55f6e-4a7e-427e-ba1e-11ffc73ad20f",
   "metadata": {
    "tags": []
   },
   "source": [
    "import xgboost as xgb\n",
    "Model_XGB = Pipeline([\n",
    "     ('vect', CountVectorizer(analyzer=\"word\", stop_words=\"english\")),\n",
    "     ('tfidf', TfidfTransformer(use_idf=True)),\n",
    "     ('clf' , xgb.XGBClassifier(tree_method=\"hist\")),\n",
    " ])"
   ]
  },
  {
   "cell_type": "markdown",
   "id": "f4dc3f96-5263-4337-9629-7a3aea5e43b1",
   "metadata": {
    "tags": []
   },
   "source": [
    "### SVC"
   ]
  },
  {
   "cell_type": "markdown",
   "id": "873b9b4b-3a9f-423f-80ee-755196f997b6",
   "metadata": {
    "tags": []
   },
   "source": [
    "from sklearn.svm import SVC\n",
    "Model_SVC = Pipeline([\n",
    "     ('vect', CountVectorizer(analyzer=\"word\", stop_words=\"english\")),\n",
    "     ('tfidf', TfidfTransformer(use_idf=True)),\n",
    "     ('clf' , SVC()),\n",
    " ])"
   ]
  },
  {
   "cell_type": "markdown",
   "id": "135548a2-8573-437b-8c85-7a9d0ede6dfb",
   "metadata": {
    "tags": []
   },
   "source": [
    "### RFC"
   ]
  },
  {
   "cell_type": "code",
   "execution_count": 18,
   "id": "9f59fd36-ec8c-415b-91f6-7a96b57765c3",
   "metadata": {
    "tags": []
   },
   "outputs": [],
   "source": [
    "# Random Forest Classifier is the best for this model\n",
    "\n",
    "from sklearn.ensemble import RandomForestClassifier  \n",
    "Model_RFC = Pipeline([\n",
    "     ('vect', CountVectorizer(analyzer=\"word\", stop_words=\"english\")),\n",
    "     ('tfidf', TfidfTransformer(use_idf=True)),\n",
    "     ('clf' , RandomForestClassifier(n_estimators= 10, criterion=\"entropy\") ),\n",
    " ])"
   ]
  },
  {
   "cell_type": "markdown",
   "id": "7042b067-cab2-4778-bf2d-5a453071eeaf",
   "metadata": {},
   "source": [
    "### LR"
   ]
  },
  {
   "cell_type": "markdown",
   "id": "de0395b2-fb09-4c01-8b51-9049976cb16a",
   "metadata": {},
   "source": [
    "from sklearn.linear_model import LogisticRegression \n",
    "Model_LR = Pipeline([\n",
    "     ('vect', CountVectorizer(analyzer=\"word\", stop_words=\"english\")),\n",
    "     ('tfidf', TfidfTransformer(use_idf=True)),\n",
    "     ('clf' , LogisticRegression(random_state=42) ),\n",
    " ])"
   ]
  },
  {
   "cell_type": "code",
   "execution_count": 19,
   "id": "57f0bbcb-17fc-4d3f-a6a9-838545fa99d0",
   "metadata": {
    "tags": []
   },
   "outputs": [
    {
     "data": {
      "text/html": [
       "<style>#sk-container-id-1 {color: black;background-color: white;}#sk-container-id-1 pre{padding: 0;}#sk-container-id-1 div.sk-toggleable {background-color: white;}#sk-container-id-1 label.sk-toggleable__label {cursor: pointer;display: block;width: 100%;margin-bottom: 0;padding: 0.3em;box-sizing: border-box;text-align: center;}#sk-container-id-1 label.sk-toggleable__label-arrow:before {content: \"▸\";float: left;margin-right: 0.25em;color: #696969;}#sk-container-id-1 label.sk-toggleable__label-arrow:hover:before {color: black;}#sk-container-id-1 div.sk-estimator:hover label.sk-toggleable__label-arrow:before {color: black;}#sk-container-id-1 div.sk-toggleable__content {max-height: 0;max-width: 0;overflow: hidden;text-align: left;background-color: #f0f8ff;}#sk-container-id-1 div.sk-toggleable__content pre {margin: 0.2em;color: black;border-radius: 0.25em;background-color: #f0f8ff;}#sk-container-id-1 input.sk-toggleable__control:checked~div.sk-toggleable__content {max-height: 200px;max-width: 100%;overflow: auto;}#sk-container-id-1 input.sk-toggleable__control:checked~label.sk-toggleable__label-arrow:before {content: \"▾\";}#sk-container-id-1 div.sk-estimator input.sk-toggleable__control:checked~label.sk-toggleable__label {background-color: #d4ebff;}#sk-container-id-1 div.sk-label input.sk-toggleable__control:checked~label.sk-toggleable__label {background-color: #d4ebff;}#sk-container-id-1 input.sk-hidden--visually {border: 0;clip: rect(1px 1px 1px 1px);clip: rect(1px, 1px, 1px, 1px);height: 1px;margin: -1px;overflow: hidden;padding: 0;position: absolute;width: 1px;}#sk-container-id-1 div.sk-estimator {font-family: monospace;background-color: #f0f8ff;border: 1px dotted black;border-radius: 0.25em;box-sizing: border-box;margin-bottom: 0.5em;}#sk-container-id-1 div.sk-estimator:hover {background-color: #d4ebff;}#sk-container-id-1 div.sk-parallel-item::after {content: \"\";width: 100%;border-bottom: 1px solid gray;flex-grow: 1;}#sk-container-id-1 div.sk-label:hover label.sk-toggleable__label {background-color: #d4ebff;}#sk-container-id-1 div.sk-serial::before {content: \"\";position: absolute;border-left: 1px solid gray;box-sizing: border-box;top: 0;bottom: 0;left: 50%;z-index: 0;}#sk-container-id-1 div.sk-serial {display: flex;flex-direction: column;align-items: center;background-color: white;padding-right: 0.2em;padding-left: 0.2em;position: relative;}#sk-container-id-1 div.sk-item {position: relative;z-index: 1;}#sk-container-id-1 div.sk-parallel {display: flex;align-items: stretch;justify-content: center;background-color: white;position: relative;}#sk-container-id-1 div.sk-item::before, #sk-container-id-1 div.sk-parallel-item::before {content: \"\";position: absolute;border-left: 1px solid gray;box-sizing: border-box;top: 0;bottom: 0;left: 50%;z-index: -1;}#sk-container-id-1 div.sk-parallel-item {display: flex;flex-direction: column;z-index: 1;position: relative;background-color: white;}#sk-container-id-1 div.sk-parallel-item:first-child::after {align-self: flex-end;width: 50%;}#sk-container-id-1 div.sk-parallel-item:last-child::after {align-self: flex-start;width: 50%;}#sk-container-id-1 div.sk-parallel-item:only-child::after {width: 0;}#sk-container-id-1 div.sk-dashed-wrapped {border: 1px dashed gray;margin: 0 0.4em 0.5em 0.4em;box-sizing: border-box;padding-bottom: 0.4em;background-color: white;}#sk-container-id-1 div.sk-label label {font-family: monospace;font-weight: bold;display: inline-block;line-height: 1.2em;}#sk-container-id-1 div.sk-label-container {text-align: center;}#sk-container-id-1 div.sk-container {/* jupyter's `normalize.less` sets `[hidden] { display: none; }` but bootstrap.min.css set `[hidden] { display: none !important; }` so we also need the `!important` here to be able to override the default hidden behavior on the sphinx rendered scikit-learn.org. See: https://github.com/scikit-learn/scikit-learn/issues/21755 */display: inline-block !important;position: relative;}#sk-container-id-1 div.sk-text-repr-fallback {display: none;}</style><div id=\"sk-container-id-1\" class=\"sk-top-container\"><div class=\"sk-text-repr-fallback\"><pre>Pipeline(steps=[(&#x27;vect&#x27;, CountVectorizer(stop_words=&#x27;english&#x27;)),\n",
       "                (&#x27;tfidf&#x27;, TfidfTransformer()),\n",
       "                (&#x27;clf&#x27;,\n",
       "                 RandomForestClassifier(criterion=&#x27;entropy&#x27;, n_estimators=10))])</pre><b>In a Jupyter environment, please rerun this cell to show the HTML representation or trust the notebook. <br />On GitHub, the HTML representation is unable to render, please try loading this page with nbviewer.org.</b></div><div class=\"sk-container\" hidden><div class=\"sk-item sk-dashed-wrapped\"><div class=\"sk-label-container\"><div class=\"sk-label sk-toggleable\"><input class=\"sk-toggleable__control sk-hidden--visually\" id=\"sk-estimator-id-1\" type=\"checkbox\" ><label for=\"sk-estimator-id-1\" class=\"sk-toggleable__label sk-toggleable__label-arrow\">Pipeline</label><div class=\"sk-toggleable__content\"><pre>Pipeline(steps=[(&#x27;vect&#x27;, CountVectorizer(stop_words=&#x27;english&#x27;)),\n",
       "                (&#x27;tfidf&#x27;, TfidfTransformer()),\n",
       "                (&#x27;clf&#x27;,\n",
       "                 RandomForestClassifier(criterion=&#x27;entropy&#x27;, n_estimators=10))])</pre></div></div></div><div class=\"sk-serial\"><div class=\"sk-item\"><div class=\"sk-estimator sk-toggleable\"><input class=\"sk-toggleable__control sk-hidden--visually\" id=\"sk-estimator-id-2\" type=\"checkbox\" ><label for=\"sk-estimator-id-2\" class=\"sk-toggleable__label sk-toggleable__label-arrow\">CountVectorizer</label><div class=\"sk-toggleable__content\"><pre>CountVectorizer(stop_words=&#x27;english&#x27;)</pre></div></div></div><div class=\"sk-item\"><div class=\"sk-estimator sk-toggleable\"><input class=\"sk-toggleable__control sk-hidden--visually\" id=\"sk-estimator-id-3\" type=\"checkbox\" ><label for=\"sk-estimator-id-3\" class=\"sk-toggleable__label sk-toggleable__label-arrow\">TfidfTransformer</label><div class=\"sk-toggleable__content\"><pre>TfidfTransformer()</pre></div></div></div><div class=\"sk-item\"><div class=\"sk-estimator sk-toggleable\"><input class=\"sk-toggleable__control sk-hidden--visually\" id=\"sk-estimator-id-4\" type=\"checkbox\" ><label for=\"sk-estimator-id-4\" class=\"sk-toggleable__label sk-toggleable__label-arrow\">RandomForestClassifier</label><div class=\"sk-toggleable__content\"><pre>RandomForestClassifier(criterion=&#x27;entropy&#x27;, n_estimators=10)</pre></div></div></div></div></div></div></div>"
      ],
      "text/plain": [
       "Pipeline(steps=[('vect', CountVectorizer(stop_words='english')),\n",
       "                ('tfidf', TfidfTransformer()),\n",
       "                ('clf',\n",
       "                 RandomForestClassifier(criterion='entropy', n_estimators=10))])"
      ]
     },
     "execution_count": 19,
     "metadata": {},
     "output_type": "execute_result"
    }
   ],
   "source": [
    "Model_RFC.fit(x_train['description'].to_list(), list(y_train))"
   ]
  },
  {
   "cell_type": "code",
   "execution_count": 20,
   "id": "30346777-ba3c-4399-9d3e-9e612ec4d0a7",
   "metadata": {
    "tags": []
   },
   "outputs": [],
   "source": [
    "x_test = x_test['description'].to_list()\n",
    "y_text = list(y_test)"
   ]
  },
  {
   "cell_type": "code",
   "execution_count": 21,
   "id": "1e5618bb-9a43-4353-b502-2c96ced07233",
   "metadata": {
    "tags": []
   },
   "outputs": [],
   "source": [
    "y_pred = Model_RFC.predict(x_test)"
   ]
  },
  {
   "cell_type": "markdown",
   "id": "11bbda0c-ef2a-4f25-bb23-d4fca4e0a793",
   "metadata": {},
   "source": [
    "# Print Predicted Output"
   ]
  },
  {
   "cell_type": "code",
   "execution_count": 22,
   "id": "f3b81e66-7b3c-4535-b4f0-a1c431858656",
   "metadata": {
    "tags": []
   },
   "outputs": [
    {
     "name": "stdout",
     "output_type": "stream",
     "text": [
      "-------------------------------------------------------\n",
      "cash withdrawal fee\n",
      "Bank Fees\n",
      "-------------------------------------------------------\n",
      "-------------------------------------------------------\n",
      "transfer chime save account\n",
      "Transfer Credit\n",
      "-------------------------------------------------------\n",
      "-------------------------------------------------------\n",
      "pop fish market deerfield bea debit card purchase\n",
      "Supermarkets and Groceries\n",
      "-------------------------------------------------------\n"
     ]
    }
   ],
   "source": [
    "i = 0\n",
    "\n",
    "for doc, category in zip(x_test, y_pred):\n",
    "    \n",
    "    if i == 3:break\n",
    "    \n",
    "    print(\"-\"*55)\n",
    "    print(doc)\n",
    "    print(v[category])\n",
    "    print(\"-\"*55)\n",
    "\n",
    "    i = i + 1"
   ]
  },
  {
   "cell_type": "markdown",
   "id": "a7a3259e-2c7b-4ae5-a078-6634c39d2897",
   "metadata": {},
   "source": [
    "# Accuracy Metrics"
   ]
  },
  {
   "cell_type": "code",
   "execution_count": 23,
   "id": "a479d4ca-8de5-4528-945e-f7519e0b4eb1",
   "metadata": {
    "tags": []
   },
   "outputs": [],
   "source": [
    "from sklearn.metrics import accuracy_score, confusion_matrix, classification_report\n",
    "import matplotlib.pyplot as plt"
   ]
  },
  {
   "cell_type": "code",
   "execution_count": 24,
   "id": "30171f02-ac77-41e8-bf8b-09b327d8301e",
   "metadata": {
    "tags": []
   },
   "outputs": [
    {
     "name": "stdout",
     "output_type": "stream",
     "text": [
      "Accuracy: 0.9190945203243185\n",
      "Classification Report:\n",
      "              precision    recall  f1-score   support\n",
      "\n",
      "           0       1.00      1.00      1.00      5743\n",
      "           1       1.00      0.97      0.98      5743\n",
      "           2       0.99      0.97      0.98      5743\n",
      "           3       1.00      0.99      0.99      5743\n",
      "           4       0.98      1.00      0.99      5743\n",
      "           5       0.59      0.94      0.73      5743\n",
      "           6       0.68      0.70      0.69      5743\n",
      "           7       0.86      0.95      0.90      5743\n",
      "           8       0.96      0.91      0.93      5742\n",
      "           9       0.95      0.98      0.96      5742\n",
      "          10       0.74      0.62      0.67      5743\n",
      "          11       0.96      0.98      0.97      5743\n",
      "          12       0.99      0.86      0.92      5743\n",
      "          13       0.99      0.92      0.96      5743\n",
      "          14       0.97      0.98      0.97      5743\n",
      "          15       1.00      0.97      0.98      5742\n",
      "          16       0.98      0.94      0.96      5743\n",
      "          17       1.00      1.00      1.00      5742\n",
      "          18       0.99      0.95      0.97      5743\n",
      "          19       0.97      0.83      0.89      5743\n",
      "          20       0.72      0.84      0.77      5743\n",
      "          21       0.98      0.89      0.93      5743\n",
      "          22       0.97      0.77      0.86      5743\n",
      "          23       1.00      1.00      1.00      5743\n",
      "          24       0.97      1.00      0.99      5742\n",
      "          25       0.99      0.97      0.98      5743\n",
      "          26       0.98      0.97      0.98      5743\n",
      "          27       0.82      0.79      0.81      5743\n",
      "          28       0.79      0.81      0.80      5743\n",
      "          29       0.99      0.95      0.97      5742\n",
      "          30       0.90      0.99      0.94      5743\n",
      "          31       0.96      0.97      0.96      5743\n",
      "\n",
      "    accuracy                           0.92    183770\n",
      "   macro avg       0.93      0.92      0.92    183770\n",
      "weighted avg       0.93      0.92      0.92    183770\n",
      "\n"
     ]
    }
   ],
   "source": [
    "accuracy = accuracy_score(y_test, y_pred)\n",
    "classification_rep = classification_report(y_test, y_pred)\n",
    "\n",
    "print(f\"Accuracy: {accuracy}\")\n",
    "print(\"Classification Report:\")\n",
    "print(classification_rep)"
   ]
  },
  {
   "cell_type": "markdown",
   "id": "5458716c-0289-4297-8ed6-85493473070b",
   "metadata": {},
   "source": [
    "# Cross Validation"
   ]
  },
  {
   "cell_type": "code",
   "execution_count": 25,
   "id": "73400c54-1e16-440d-a460-47b083f488f2",
   "metadata": {
    "tags": []
   },
   "outputs": [
    {
     "data": {
      "text/plain": [
       "array([0.91714734, 0.91638552, 0.91698863, 0.91712013, 0.91717455])"
      ]
     },
     "execution_count": 25,
     "metadata": {},
     "output_type": "execute_result"
    }
   ],
   "source": [
    "from sklearn.model_selection import cross_val_score\n",
    "from sklearn.model_selection import ShuffleSplit\n",
    "cv = ShuffleSplit(n_splits=5, test_size=0.3, random_state=0)\n",
    "cross_val_score(Model_RFC, x_train['description'].to_list(), list(y_train), cv=cv)"
   ]
  },
  {
   "cell_type": "markdown",
   "id": "221411ec-d887-46c6-8a50-cc9b5b7ea915",
   "metadata": {},
   "source": [
    "# Confusion Matrix"
   ]
  },
  {
   "cell_type": "code",
   "execution_count": 32,
   "id": "55b064f6-9fd5-4708-abe5-bb3c1f9823c7",
   "metadata": {
    "tags": []
   },
   "outputs": [
    {
     "data": {
      "image/png": "[encoded data removed]",
      "text/plain": [
       "<Figure size 480x480 with 1 Axes>"
      ]
     },
     "metadata": {},
     "output_type": "display_data"
    }
   ],
   "source": [
    "conf_mat = confusion_matrix(y_test, y_pred)\n",
    "   \n",
    "plt.matshow(conf_mat)\n",
    "plt.show()"
   ]
  },
  {
   "cell_type": "markdown",
   "id": "238d804d-1e9f-4e8a-859c-9a8187d6d09a",
   "metadata": {},
   "source": [
    "# Save the Model"
   ]
  },
  {
   "cell_type": "code",
   "execution_count": 27,
   "id": "93bbfce9-d1e3-4f17-90fa-171413ed4d9e",
   "metadata": {},
   "outputs": [
    {
     "data": {
      "text/plain": [
       "['model.pkl']"
      ]
     },
     "execution_count": 27,
     "metadata": {},
     "output_type": "execute_result"
    }
   ],
   "source": [
    "import joblib\n",
    "joblib.dump(Model_RFC, 'model.pkl')"
   ]
  },
  {
   "cell_type": "code",
   "execution_count": 28,
   "id": "4abaa38f-c147-4355-a83f-6ee9260682bd",
   "metadata": {
    "tags": []
   },
   "outputs": [],
   "source": [
    "model = joblib.load('model.pkl')"
   ]
  },
  {
   "cell_type": "markdown",
   "id": "dcaf1c16-8e21-4aa7-b8d4-2d7379ad8aae",
   "metadata": {
    "tags": []
   },
   "source": [
    "# Predict the Unlabeled Data"
   ]
  },
  {
   "cell_type": "code",
   "execution_count": 29,
   "id": "7edec6c2-be78-49cb-afee-c08db7588b95",
   "metadata": {},
   "outputs": [],
   "source": [
    "unlabeled_data_pred = model.predict(unlabeled_data['description'].to_list())"
   ]
  },
  {
   "cell_type": "code",
   "execution_count": 30,
   "id": "9680d97f-77a7-4ddd-9fc0-ff3da32c687d",
   "metadata": {
    "tags": []
   },
   "outputs": [
    {
     "data": {
      "text/plain": [
       "array([22, 22, 31, ..., 25, 10,  5])"
      ]
     },
     "execution_count": 30,
     "metadata": {},
     "output_type": "execute_result"
    }
   ],
   "source": [
    "unlabeled_data_pred"
   ]
  },
  {
   "cell_type": "code",
   "execution_count": 31,
   "id": "fc3c9e22-e5a6-4c5b-bdfe-173c4c8aae7d",
   "metadata": {
    "tags": []
   },
   "outputs": [
    {
     "name": "stdout",
     "output_type": "stream",
     "text": [
      "-------------------------------------------------------\n",
      "check card adjustment signature credit target com\n",
      "Supermarkets and Groceries\n",
      "-------------------------------------------------------\n",
      "-------------------------------------------------------\n",
      "check card adjustment signature credit target com\n",
      "Supermarkets and Groceries\n",
      "-------------------------------------------------------\n",
      "-------------------------------------------------------\n",
      "empower\n",
      "Utilities\n",
      "-------------------------------------------------------\n",
      "-------------------------------------------------------\n",
      "insta cash repayment\n",
      "Loans\n",
      "-------------------------------------------------------\n",
      "-------------------------------------------------------\n",
      "check card refund\n",
      "Transfer\n",
      "-------------------------------------------------------\n",
      "-------------------------------------------------------\n",
      "check card refund\n",
      "Transfer\n",
      "-------------------------------------------------------\n"
     ]
    }
   ],
   "source": [
    "i = 0\n",
    "\n",
    "for doc, category in zip(unlabeled_data['description'].to_list(), unlabeled_data_pred):\n",
    "    \n",
    "    if i == 6:break\n",
    "    \n",
    "    print(\"-\"*55)\n",
    "    print(doc)\n",
    "    print(v[category])\n",
    "    print(\"-\"*55)\n",
    "\n",
    "    i = i + 1"
   ]
  }
 ],
 "metadata": {
  "kernelspec": {
   "display_name": "Python 3 (ipykernel)",
   "language": "python",
   "name": "python3"
  },
  "language_info": {
   "codemirror_mode": {
    "name": "ipython",
    "version": 3
   },
   "file_extension": ".py",
   "mimetype": "text/x-python",
   "name": "python",
   "nbconvert_exporter": "python",
   "pygments_lexer": "ipython3",
   "version": "3.11.5"
  }
 },
 "nbformat": 4,
 "nbformat_minor": 5
}
